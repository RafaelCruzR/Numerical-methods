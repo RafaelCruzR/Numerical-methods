{
 "cells": [
  {
   "cell_type": "markdown",
   "metadata": {
    "collapsed": true
   },
   "source": [
    "using Gadfly"
   ]
  },
  {
   "cell_type": "markdown",
   "metadata": {},
   "source": [
    "# Distancias para las que se \"agrega\" una partícula a las interacciones\n",
    "distances = Vector() \n",
    "append!(distances, sqrt(l1^2 + 1) + 0.01)\n",
    "append!(distances, sqrt(l2^2 + 1) + 0.01)\n",
    "append!(distances, sqrt((1 + l1)^2 + l2^2) + 0.01)\n",
    "append!(distances, sqrt((1 + l2)^2 + l1^2) + 0.01)\n",
    "append!(distances, sqrt(l1^2 + (1 - l2)^2) + 0.01)\n",
    "append!(distances, sqrt(l2^2 + (1 - l1)^2) + 0.01)\n",
    "append!(distances, 1 + l1 + 0.01)\n",
    "append!(distances, 1 + l2 + 0.01)\n",
    "append!(distances, 1 - l1 + 0.01)\n",
    "append!(distances, 1 - l2 + 0.01)\n",
    "append!(distances, 1 + 0.01)\n",
    "sort(distances)"
   ]
  },
  {
   "cell_type": "code",
   "execution_count": 2,
   "metadata": {},
   "outputs": [
    {
     "ename": "LoadError",
     "evalue": "UndefVarError: l1 not defined",
     "output_type": "error",
     "traceback": [
      "UndefVarError: l1 not defined",
      "",
      " in include_string(::String, ::String) at ./loading.jl:441"
     ]
    }
   ],
   "source": [
    "cell = [[0, 0], [0, l1], [l2, 0], [l2, l1]]\n",
    "a = []\n",
    "for jj in -1:1\n",
    "    for ii in -1:1\n",
    "        for c in cell\n",
    "            if ii == 0 && jj == 0\n",
    "                continue\n",
    "            end\n",
    "            append!(a, [c + [ii, jj]])\n",
    "        end\n",
    "    end\n",
    "end\n",
    "a"
   ]
  },
  {
   "cell_type": "code",
   "execution_count": 31,
   "metadata": {},
   "outputs": [
    {
     "data": {
      "text/plain": [
       "20-element Array{Any,1}:\n",
       " 0.1     \n",
       " 0.460977\n",
       " 0.55    \n",
       " 0.559017\n",
       " 1.0     \n",
       " 1.00499 \n",
       " 1.05475 \n",
       " 1.09659 \n",
       " 1.14127 \n",
       " 1.34536 \n",
       " 1.41421 \n",
       " 1.45    \n",
       " 1.45344 \n",
       " 1.7066  \n",
       " 1.76139 \n",
       " 1.9     \n",
       " 1.95256 \n",
       " 1.978   \n",
       " 2.14709 \n",
       " 2.39008 "
      ]
     },
     "execution_count": 31,
     "metadata": {},
     "output_type": "execute_result"
    }
   ],
   "source": [
    "dists = sort(unique(map(norm, a)))"
   ]
  },
  {
   "cell_type": "code",
   "execution_count": null,
   "metadata": {},
   "outputs": [],
   "source": [
    "diff = min([dists[ii] - dists[ii - 1] for ii in 2:length(dists)]...)"
   ]
  },
  {
   "cell_type": "code",
   "execution_count": 1,
   "metadata": {},
   "outputs": [
    {
     "data": {
      "text/plain": [
       "\"/home/rafael/Documentos/Tesis/Programas/Tesis/prueba_canonico_doctora/\""
      ]
     },
     "execution_count": 1,
     "metadata": {},
     "output_type": "execute_result"
    }
   ],
   "source": [
    "# Que la primera mitad sean derechas y la otra, izquierdas\n",
    "const atoms_per_molecule = 3\n",
    "const side = 12 # Número de celdas por lado de la caja de simulación, que debe ser un número par\n",
    "const total_atoms = floor(Int64, side*side*atoms_per_molecule)\n",
    "\n",
    "#global l1, n1, radius, n2, l2\n",
    "const lambda = 1.001 # Rango de interacción\n",
    "const l1 = 0.9 # Longitud del lado largo\n",
    "const l2 = l1/2 # Longitud del lado corto\n",
    "if lambda <= 1.005\n",
    "    const nps = 1 # Columnas o filas al lado\n",
    "else\n",
    "    const nps = 2\n",
    "end\n",
    "const neigh_number = (2*nps + 1)^2 - 1 #Número de vecinos totales\n",
    "\n",
    "const direc = pwd()*\"/prueba_canonico_doctora/\""
   ]
  },
  {
   "cell_type": "code",
   "execution_count": 2,
   "metadata": {},
   "outputs": [
    {
     "data": {
      "text/plain": [
       "9850"
      ]
     },
     "execution_count": 2,
     "metadata": {},
     "output_type": "execute_result"
    }
   ],
   "source": [
    "const temperature = 0.1\n",
    "const nsample = 50 #Pasos de Monte Carlo para tomar una muestra\n",
    "const cycles = Int(fld(side^3.7, nsample)*nsample + nsample) #Para que sea múltiplo de nsample\n",
    "#const cycles = floor(Int64, side^3.7)"
   ]
  },
  {
   "cell_type": "code",
   "execution_count": 3,
   "metadata": {},
   "outputs": [
    {
     "data": {
      "text/plain": [
       "127"
      ]
     },
     "execution_count": 3,
     "metadata": {},
     "output_type": "execute_result"
    }
   ],
   "source": [
    "open(direc*\"lambda\"*\"$(@sprintf(\"%.5f\", lambda))\"*\"datos_simulacion.txt\", \"w\") do data\n",
    "    write(data, \n",
    "    \"canonical mc\\n\",\n",
    "    \"side = $side\\n\",\"lambda = $lambda\\n\", \"l1 = $l1\\n\", \"l2 = $l2\\n\", \"nps = $nps\\n\", \n",
    "    \"neigh_number = $neigh_number\\n\", \"temperature = $temperature\\n\", \n",
    "    \"nsample = $nsample\\n\", \"cycles = $cycles\\n\")\n",
    "end"
   ]
  },
  {
   "cell_type": "code",
   "execution_count": 4,
   "metadata": {},
   "outputs": [
    {
     "data": {
      "text/plain": [
       "square_well (generic function with 1 method)"
      ]
     },
     "execution_count": 4,
     "metadata": {},
     "output_type": "execute_result"
    }
   ],
   "source": [
    "function square_well(r_ij::Vector{Float64})\n",
    "    dist = norm(r_ij)\n",
    "    if (dist == 0.0)\n",
    "        ans = Inf\n",
    "    elseif (dist > 0 && dist <= lambda)\n",
    "        ans = -1.0\n",
    "    elseif dist > lambda\n",
    "        ans = 0.0\n",
    "    end\n",
    "    return ans\n",
    "end"
   ]
  },
  {
   "cell_type": "code",
   "execution_count": 5,
   "metadata": {},
   "outputs": [
    {
     "data": {
      "text/plain": [
       "dextro_molecule (generic function with 1 method)"
      ]
     },
     "execution_count": 5,
     "metadata": {},
     "output_type": "execute_result"
    }
   ],
   "source": [
    "# Si x va hacia la derecha y y hacia arriba, este genera las partículas hacia arriba y luego hacia la derecha \n",
    "# (moléculas derechas)\n",
    "\n",
    "# square_pos es la posición del cuadrado donde se situará la molécula\n",
    "function dextro_molecule(square_pos::Vector{Float64})\n",
    "    \"\"\"\n",
    "    Regresa una lista con las posiciones de los átomos de cada molécula para que sea derecha\n",
    "    \"\"\"\n",
    "    pos = Vector{Vector}(3)\n",
    "    pos[1] = [square_pos[1] - l2/2.0, square_pos[2] - l1/2.0]\n",
    "    pos[2] = [square_pos[1] - l2/2.0, square_pos[2] + l1/2.0]\n",
    "    pos[3] = [square_pos[1] + l2/2.0, square_pos[2] + l1/2.0]\n",
    "    return pos\n",
    "end"
   ]
  },
  {
   "cell_type": "code",
   "execution_count": 6,
   "metadata": {},
   "outputs": [
    {
     "data": {
      "text/plain": [
       "levo_molecule (generic function with 1 method)"
      ]
     },
     "execution_count": 6,
     "metadata": {},
     "output_type": "execute_result"
    }
   ],
   "source": [
    "# Este genera las moléculas izquierdas\n",
    "# Cuadrado donde se posicionará la molécula\n",
    "function levo_molecule(square_pos::Vector{Float64})\n",
    "    pos = Vector{Vector}(3)\n",
    "    pos[1] = [square_pos[1] + l2/2.0, square_pos[2] - l1/2.0]\n",
    "    pos[2] = [square_pos[1] + l2/2.0, square_pos[2] + l1/2.0]\n",
    "    pos[3] = [square_pos[1] - l2/2.0, square_pos[2] + l1/2.0]\n",
    "    return pos\n",
    "end"
   ]
  },
  {
   "cell_type": "code",
   "execution_count": 7,
   "metadata": {},
   "outputs": [
    {
     "data": {
      "text/plain": [
       "create_molecules (generic function with 1 method)"
      ]
     },
     "execution_count": 7,
     "metadata": {},
     "output_type": "execute_result"
    }
   ],
   "source": [
    "function create_molecules(nmol, ppm)\n",
    "    mol_centers = Vector(nmol)\n",
    "    positions = Vector(nmol)\n",
    "    chirality = Vector(nmol)\n",
    "    neighbors = Vector(nmol)\n",
    "    \n",
    "    # Hacer que haya la mitad de las moléculas tengan la misma quiralidad\n",
    "    for ii in 1:convert(Int64, nmol/2)\n",
    "        chirality[ii] = \"L\"\n",
    "    end\n",
    "    for ii in (convert(Int64, nmol/2) + 1):nmol\n",
    "        chirality[ii] = \"D\"\n",
    "    end\n",
    "    #chir = transpose(reshape(chirality, (side, side)))\n",
    "    #chirality = vec(chir)\n",
    "    \n",
    "    #shuffle!(chirality)\n",
    "    # Otro método, pero no siempre serían exactamente la mitad de derechas e izquierdas\n",
    "    # chirality = rand([\"L\", \"D\"], nsites)\n",
    "        \n",
    "    # Sitúa las moléculas en posiciones y orientaciones aleatorias\n",
    "    for jj in 0:(side - 1)\n",
    "        for ii in 0:(side - 1)\n",
    "            mol_index = jj*side + ii + 1\n",
    "            #mol_index = ii*side + jj + 1\n",
    "            if chirality[mol_index] == \"L\"\n",
    "                temp_pos = levo_molecule([0.0, 0.0])\n",
    "            else\n",
    "                temp_pos = dextro_molecule([0.0, 0.0])\n",
    "            end\n",
    "            mol_centers[mol_index] = [ii + 0.5, jj + 0.5] #Podría ser solamente [ii, jj]\n",
    "            #En caso de rotación\n",
    "            #orientation = rand(1:4)\n",
    "            #positions[mol_index] = map(rot_int, temp_pos, fill(orientation, ppm)) + fill(mol_centers[mol_index], ppm)\n",
    "            positions[mol_index] = temp_pos + fill(mol_centers[mol_index], ppm)\n",
    "            \n",
    "            # Si nps = 1, hay 8 vecinos. Si nps = 2, hay 24 vecinos.\n",
    "            neighbors[mol_index] = [mod(jj + col, side)*side + mod(ii + row, side) + 1 \n",
    "                for col in -nps:nps for row in -nps:nps]\n",
    "            deleteat!(neighbors[mol_index], convert(Int64, neigh_number/2 + 1)) # Es la molécula central\n",
    "        end\n",
    "    end\n",
    "    \n",
    "    return mol_centers, positions, chirality, neighbors\n",
    "end"
   ]
  },
  {
   "cell_type": "code",
   "execution_count": 8,
   "metadata": {},
   "outputs": [
    {
     "data": {
      "text/plain": [
       "change_molecule (generic function with 1 method)"
      ]
     },
     "execution_count": 8,
     "metadata": {},
     "output_type": "execute_result"
    }
   ],
   "source": [
    "# Esta función podría ir en dos partes: cambiar quiralidad y cambiar orientación\n",
    "function change_molecule(mol_chirality::String, pos::Vector{Vector{Float64}}, center::Vector{Float64})\n",
    "\n",
    "    if mol_chirality == \"L\"\n",
    "        new_pos = dextro_molecule([0.0, 0.0]) + fill(center, atoms_per_molecule)\n",
    "        new_mol_chirality = \"D\"\n",
    "    else\n",
    "        new_pos = levo_molecule([0.0, 0.0]) + fill(center, atoms_per_molecule)\n",
    "        new_mol_chirality = \"L\"\n",
    "    end\n",
    "\n",
    "    # El método para seleccionar la rotación puede cambiar, si es que no es simétrico\n",
    "    #orientation = rand(1:4)\n",
    "    #new_pos = map(rot_int, temp_pos, fill(orientation, atoms_per_molecule)) + fill(center, atoms_per_molecule)\n",
    "    #new_pos = temp_pos + fill(center, atoms_per_molecule)\n",
    "    return new_mol_chirality, new_pos\n",
    "end"
   ]
  },
  {
   "cell_type": "code",
   "execution_count": 9,
   "metadata": {},
   "outputs": [
    {
     "data": {
      "text/plain": [
       "potential_energy (generic function with 1 method)"
      ]
     },
     "execution_count": 9,
     "metadata": {},
     "output_type": "execute_result"
    }
   ],
   "source": [
    "function potential_energy(positions::Vector)\n",
    "    # positions incluye las posiciones de cada átomo\n",
    "    # positions[1] es la molécula central\n",
    "    energy = 0.0\n",
    "    for kk in 2:(neigh_number + 1)\n",
    "        for jj in 1:3\n",
    "            for ii in 1:3\n",
    "                # Sin condiciones periódicas\n",
    "                #energy += square_well(positions[1][ii] - positions[kk][jj])\n",
    "                \n",
    "                #Con condiciones periódicas\n",
    "                dist = Vector{Float64}(2)\n",
    "                for aa in 1:2    \n",
    "                    temp_dist = abs(positions[1][ii][aa] - positions[kk][jj][aa])\n",
    "                    if temp_dist > side/2\n",
    "                        temp_dist = side - temp_dist\n",
    "                    end\n",
    "                    dist[aa] = temp_dist\n",
    "                end\n",
    "                #println(dist)\n",
    "                # Otra manera de hacer lo de arriba (la de arriba ya está probada)\n",
    "                #temp_dist = abs(positions[1][ii] - positions[kk][jj])\n",
    "                #dist = temp_dist - side*round(temp_dist/side, RoundNearestTiesAway)\n",
    "                energy += square_well(dist)\n",
    "                #println(energy)\n",
    "            end\n",
    "        end\n",
    "    end\n",
    "    #println(energy)\n",
    "    return energy\n",
    "end"
   ]
  },
  {
   "cell_type": "code",
   "execution_count": 10,
   "metadata": {},
   "outputs": [
    {
     "data": {
      "text/plain": [
       "(Any[[0.5,0.5],[1.5,0.5],[2.5,0.5],[3.5,0.5],[4.5,0.5],[5.5,0.5],[6.5,0.5],[7.5,0.5],[8.5,0.5],[9.5,0.5]  …  [2.5,11.5],[3.5,11.5],[4.5,11.5],[5.5,11.5],[6.5,11.5],[7.5,11.5],[8.5,11.5],[9.5,11.5],[10.5,11.5],[11.5,11.5]],Any[Array{Float64,1}[[0.725,0.05],[0.725,0.95],[0.275,0.95]],Array{Float64,1}[[1.725,0.05],[1.725,0.95],[1.275,0.95]],Array{Float64,1}[[2.725,0.05],[2.725,0.95],[2.275,0.95]],Array{Float64,1}[[3.725,0.05],[3.725,0.95],[3.275,0.95]],Array{Float64,1}[[4.725,0.05],[4.725,0.95],[4.275,0.95]],Array{Float64,1}[[5.725,0.05],[5.725,0.95],[5.275,0.95]],Array{Float64,1}[[6.725,0.05],[6.725,0.95],[6.275,0.95]],Array{Float64,1}[[7.725,0.05],[7.725,0.95],[7.275,0.95]],Array{Float64,1}[[8.725,0.05],[8.725,0.95],[8.275,0.95]],Array{Float64,1}[[9.725,0.05],[9.725,0.95],[9.275,0.95]]  …  Array{Float64,1}[[2.275,11.05],[2.275,11.95],[2.725,11.95]],Array{Float64,1}[[3.275,11.05],[3.275,11.95],[3.725,11.95]],Array{Float64,1}[[4.275,11.05],[4.275,11.95],[4.725,11.95]],Array{Float64,1}[[5.275,11.05],[5.275,11.95],[5.725,11.95]],Array{Float64,1}[[6.275,11.05],[6.275,11.95],[6.725,11.95]],Array{Float64,1}[[7.275,11.05],[7.275,11.95],[7.725,11.95]],Array{Float64,1}[[8.275,11.05],[8.275,11.95],[8.725,11.95]],Array{Float64,1}[[9.275,11.05],[9.275,11.95],[9.725,11.95]],Array{Float64,1}[[10.275,11.05],[10.275,11.95],[10.725,11.95]],Array{Float64,1}[[11.275,11.05],[11.275,11.95],[11.725,11.95]]],Any[\"L\",\"L\",\"L\",\"L\",\"L\",\"L\",\"L\",\"L\",\"L\",\"L\"  …  \"D\",\"D\",\"D\",\"D\",\"D\",\"D\",\"D\",\"D\",\"D\",\"D\"],Any[[144,133,134,12,2,24,13,14],[133,134,135,1,3,13,14,15],[134,135,136,2,4,14,15,16],[135,136,137,3,5,15,16,17],[136,137,138,4,6,16,17,18],[137,138,139,5,7,17,18,19],[138,139,140,6,8,18,19,20],[139,140,141,7,9,19,20,21],[140,141,142,8,10,20,21,22],[141,142,143,9,11,21,22,23]  …  [122,123,124,134,136,2,3,4],[123,124,125,135,137,3,4,5],[124,125,126,136,138,4,5,6],[125,126,127,137,139,5,6,7],[126,127,128,138,140,6,7,8],[127,128,129,139,141,7,8,9],[128,129,130,140,142,8,9,10],[129,130,131,141,143,9,10,11],[130,131,132,142,144,10,11,12],[131,132,121,143,133,11,12,1]])"
      ]
     },
     "execution_count": 10,
     "metadata": {},
     "output_type": "execute_result"
    }
   ],
   "source": [
    "centers, positions, chirality, neighbors = create_molecules(floor(Int64, side*(side)), atoms_per_molecule)"
   ]
  },
  {
   "cell_type": "code",
   "execution_count": 11,
   "metadata": {},
   "outputs": [
    {
     "data": {
      "text/plain": [
       "12×12 Array{Any,2}:\n",
       " \"L\"  \"L\"  \"L\"  \"L\"  \"L\"  \"L\"  \"D\"  \"D\"  \"D\"  \"D\"  \"D\"  \"D\"\n",
       " \"L\"  \"L\"  \"L\"  \"L\"  \"L\"  \"L\"  \"D\"  \"D\"  \"D\"  \"D\"  \"D\"  \"D\"\n",
       " \"L\"  \"L\"  \"L\"  \"L\"  \"L\"  \"L\"  \"D\"  \"D\"  \"D\"  \"D\"  \"D\"  \"D\"\n",
       " \"L\"  \"L\"  \"L\"  \"L\"  \"L\"  \"L\"  \"D\"  \"D\"  \"D\"  \"D\"  \"D\"  \"D\"\n",
       " \"L\"  \"L\"  \"L\"  \"L\"  \"L\"  \"L\"  \"D\"  \"D\"  \"D\"  \"D\"  \"D\"  \"D\"\n",
       " \"L\"  \"L\"  \"L\"  \"L\"  \"L\"  \"L\"  \"D\"  \"D\"  \"D\"  \"D\"  \"D\"  \"D\"\n",
       " \"L\"  \"L\"  \"L\"  \"L\"  \"L\"  \"L\"  \"D\"  \"D\"  \"D\"  \"D\"  \"D\"  \"D\"\n",
       " \"L\"  \"L\"  \"L\"  \"L\"  \"L\"  \"L\"  \"D\"  \"D\"  \"D\"  \"D\"  \"D\"  \"D\"\n",
       " \"L\"  \"L\"  \"L\"  \"L\"  \"L\"  \"L\"  \"D\"  \"D\"  \"D\"  \"D\"  \"D\"  \"D\"\n",
       " \"L\"  \"L\"  \"L\"  \"L\"  \"L\"  \"L\"  \"D\"  \"D\"  \"D\"  \"D\"  \"D\"  \"D\"\n",
       " \"L\"  \"L\"  \"L\"  \"L\"  \"L\"  \"L\"  \"D\"  \"D\"  \"D\"  \"D\"  \"D\"  \"D\"\n",
       " \"L\"  \"L\"  \"L\"  \"L\"  \"L\"  \"L\"  \"D\"  \"D\"  \"D\"  \"D\"  \"D\"  \"D\""
      ]
     },
     "execution_count": 11,
     "metadata": {},
     "output_type": "execute_result"
    }
   ],
   "source": [
    "reshape(chirality, (side, side))"
   ]
  },
  {
   "cell_type": "code",
   "execution_count": 12,
   "metadata": {},
   "outputs": [
    {
     "data": {
      "text/plain": [
       "12×12 Array{Int64,2}:\n",
       " -19  -20  -20  -20  -20  -19  -19  -20  -20  -20  -20  -19\n",
       " -19  -20  -20  -20  -20  -19  -19  -20  -20  -20  -20  -19\n",
       " -19  -20  -20  -20  -20  -19  -19  -20  -20  -20  -20  -19\n",
       " -19  -20  -20  -20  -20  -19  -19  -20  -20  -20  -20  -19\n",
       " -19  -20  -20  -20  -20  -19  -19  -20  -20  -20  -20  -19\n",
       " -19  -20  -20  -20  -20  -19  -19  -20  -20  -20  -20  -19\n",
       " -19  -20  -20  -20  -20  -19  -19  -20  -20  -20  -20  -19\n",
       " -19  -20  -20  -20  -20  -19  -19  -20  -20  -20  -20  -19\n",
       " -19  -20  -20  -20  -20  -19  -19  -20  -20  -20  -20  -19\n",
       " -19  -20  -20  -20  -20  -19  -19  -20  -20  -20  -20  -19\n",
       " -19  -20  -20  -20  -20  -19  -19  -20  -20  -20  -20  -19\n",
       " -19  -20  -20  -20  -20  -19  -19  -20  -20  -20  -20  -19"
      ]
     },
     "execution_count": 12,
     "metadata": {},
     "output_type": "execute_result"
    }
   ],
   "source": [
    "energy_mat = Vector{Int64}(side*side)\n",
    "for idx in 1:(side*side)\n",
    "    #idx = jj*side + ii + 1\n",
    "    neighbor_pos = Vector(neigh_number + 1)\n",
    "    for (ii, molecules) in enumerate([idx, neighbors[idx]...])\n",
    "        neighbor_pos[ii] = positions[molecules]\n",
    "    end\n",
    "    energy_mat[idx] = potential_energy(neighbor_pos)\n",
    "end \n",
    "reshape(energy_mat, (side, side))"
   ]
  },
  {
   "cell_type": "code",
   "execution_count": 20,
   "metadata": {},
   "outputs": [
    {
     "data": {
      "text/plain": [
       "12×12 Array{Any,2}:\n",
       " \"L\"  \"L\"  \"L\"  \"L\"  \"L\"  \"L\"  \"D\"  \"D\"  \"D\"  \"D\"  \"D\"  \"D\"\n",
       " \"L\"  \"L\"  \"L\"  \"L\"  \"L\"  \"L\"  \"D\"  \"D\"  \"D\"  \"D\"  \"D\"  \"D\"\n",
       " \"L\"  \"L\"  \"L\"  \"L\"  \"L\"  \"L\"  \"D\"  \"D\"  \"D\"  \"D\"  \"D\"  \"D\"\n",
       " \"L\"  \"L\"  \"L\"  \"L\"  \"L\"  \"L\"  \"D\"  \"D\"  \"D\"  \"D\"  \"D\"  \"D\"\n",
       " \"L\"  \"L\"  \"L\"  \"L\"  \"L\"  \"D\"  \"D\"  \"D\"  \"D\"  \"D\"  \"D\"  \"D\"\n",
       " \"L\"  \"L\"  \"L\"  \"L\"  \"L\"  \"L\"  \"D\"  \"D\"  \"D\"  \"D\"  \"D\"  \"D\"\n",
       " \"L\"  \"L\"  \"L\"  \"L\"  \"L\"  \"L\"  \"D\"  \"D\"  \"D\"  \"D\"  \"D\"  \"D\"\n",
       " \"L\"  \"L\"  \"L\"  \"L\"  \"L\"  \"L\"  \"D\"  \"D\"  \"D\"  \"D\"  \"D\"  \"D\"\n",
       " \"L\"  \"L\"  \"L\"  \"L\"  \"L\"  \"L\"  \"D\"  \"D\"  \"D\"  \"D\"  \"D\"  \"D\"\n",
       " \"L\"  \"L\"  \"L\"  \"L\"  \"L\"  \"L\"  \"D\"  \"D\"  \"D\"  \"D\"  \"D\"  \"D\"\n",
       " \"L\"  \"L\"  \"L\"  \"L\"  \"L\"  \"L\"  \"D\"  \"D\"  \"D\"  \"D\"  \"D\"  \"D\"\n",
       " \"L\"  \"L\"  \"L\"  \"L\"  \"L\"  \"L\"  \"D\"  \"D\"  \"D\"  \"D\"  \"D\"  \"L\""
      ]
     },
     "execution_count": 20,
     "metadata": {},
     "output_type": "execute_result"
    }
   ],
   "source": [
    "change_idx = 65\n",
    "chirality[idx], positions[idx] = change_molecule(chirality[change_idx], positions[change_idx], centers[change_idx])\n",
    "reshape(chirality, (side, side))"
   ]
  },
  {
   "cell_type": "code",
   "execution_count": 21,
   "metadata": {},
   "outputs": [
    {
     "data": {
      "text/plain": [
       "12×12 Array{Int64,2}:\n",
       " -19  -20  -20  -20  -20  -19  -19  -20  -20  -20  -20  -19\n",
       " -19  -20  -20  -20  -20  -19  -19  -20  -20  -20  -20  -19\n",
       " -19  -20  -20  -20  -20  -19  -19  -20  -20  -20  -20  -19\n",
       " -19  -20  -20  -20  -21  -19  -19  -20  -20  -20  -20  -19\n",
       " -19  -20  -20  -20  -19  -18  -20  -20  -20  -20  -20  -19\n",
       " -19  -20  -20  -20  -19  -18  -19  -20  -20  -20  -20  -19\n",
       " -19  -20  -20  -20  -20  -19  -19  -20  -20  -20  -20  -19\n",
       " -19  -20  -20  -20  -20  -19  -19  -20  -20  -20  -20  -19\n",
       " -19  -20  -20  -20  -20  -19  -19  -20  -20  -20  -20  -19\n",
       " -19  -20  -20  -20  -20  -19  -19  -20  -20  -20  -20  -19\n",
       " -19  -20  -20  -20  -20  -19  -19  -20  -20  -20  -20  -19\n",
       " -19  -20  -20  -20  -20  -19  -19  -20  -20  -20  -20  -19"
      ]
     },
     "execution_count": 21,
     "metadata": {},
     "output_type": "execute_result"
    }
   ],
   "source": [
    "energy_mat2 = Vector{Int64}(side*side)\n",
    "for idx in 1:(side*side)\n",
    "    #idx = jj*side + ii + 1\n",
    "    neighbor_pos = Vector(neigh_number + 1)\n",
    "    for (ii, molecules) in enumerate([idx, neighbors[idx]...])\n",
    "        neighbor_pos[ii] = positions[molecules]\n",
    "    end\n",
    "    energy_mat2[change_idx] = potential_energy(neighbor_pos)\n",
    "end \n",
    "reshape(energy_mat, (side, side))"
   ]
  },
  {
   "cell_type": "code",
   "execution_count": 16,
   "metadata": {},
   "outputs": [
    {
     "data": {
      "text/plain": [
       "metropolis_step (generic function with 1 method)"
      ]
     },
     "execution_count": 16,
     "metadata": {},
     "output_type": "execute_result"
    }
   ],
   "source": [
    "function metropolis_step(exp_arg::Float64)\n",
    "    \"\"\"\n",
    "    Returns True if the trial configuration goes towards a region with higher probability\n",
    "    or it is given the chance to explore regions with fewer probability\n",
    "    \"\"\"\n",
    "    if exp_arg < 0.0\n",
    "        return true # Se actualiza el estado del sistema\n",
    "    else\n",
    "        w = exp(-exp_arg)\n",
    "        if rand() < w # Energía: w\n",
    "            return true # También se actualiza el estado del sistema\n",
    "        else\n",
    "            return false\n",
    "        end\n",
    "    end\n",
    "end"
   ]
  },
  {
   "cell_type": "code",
   "execution_count": 22,
   "metadata": {},
   "outputs": [
    {
     "data": {
      "text/plain": [
       "false"
      ]
     },
     "execution_count": 22,
     "metadata": {},
     "output_type": "execute_result"
    }
   ],
   "source": [
    "metropolis_step(Float64(energy_mat2[change_idx] - energy_mat[change_idx]))"
   ]
  },
  {
   "cell_type": "code",
   "execution_count": 53,
   "metadata": {},
   "outputs": [
    {
     "name": "stderr",
     "output_type": "stream",
     "text": [
      "WARNING: Method definition montecarlo!(Array{T<:Any, 1}, Array{T<:Any, 1}, Array{T<:Any, 1}, Array{T<:Any, 1}, Any) in module Main at In[32]:2 overwritten at In[53]:2.\n"
     ]
    },
    {
     "data": {
      "text/plain": [
       "montecarlo! (generic function with 1 method)"
      ]
     },
     "execution_count": 53,
     "metadata": {},
     "output_type": "execute_result"
    }
   ],
   "source": [
    "function montecarlo!(centers::Vector, positions::Vector, chirality::Vector, neighbors::Vector, t_env)\n",
    "    \"\"\"\n",
    "    Tries to perform a change in the system, like changing a spin direction\n",
    "    \"\"\"\n",
    "    \n",
    "    # Elegir una molécula al azar\n",
    "    idx = rand(1:(side*side))\n",
    "        \n",
    "    # Buscar las posiciones de los átomos de esa molécula y de sus vecinas\n",
    "    neighbor_pos = Vector(neigh_number + 1)\n",
    "    for (ii, molecules) in enumerate([idx, neighbors[idx]...])\n",
    "        neighbor_pos[ii] = positions[molecules]\n",
    "    end\n",
    "    #println(\"Old positions: \", neighbor_pos[1])\n",
    "    #println(\"Old chirality: \", chirality[idx])\n",
    "    \n",
    "    # Intento de cambio\n",
    "    trial_chir, trial_pos = change_molecule(chirality[idx], positions[idx], centers[idx])\n",
    "    neighbor_pos2 = Vector(neigh_number + 1)\n",
    "    neighbor_pos2[1] = trial_pos\n",
    "    for (ii, molecules) in enumerate(neighbors[idx])\n",
    "        neighbor_pos2[ii + 1] = positions[molecules]\n",
    "    end\n",
    "    #println(\"Trial positions: \", neighbor_pos2[1])\n",
    "    #println(\"Trial chirality: \", trial_chir)\n",
    "    \n",
    "\n",
    "    # Cálculo de energías\n",
    "    old_energy = potential_energy(neighbor_pos)\n",
    "    trial_energy = potential_energy(neighbor_pos2)\n",
    "    #println(\"Old E: \", old_energy)\n",
    "    #println(\"Trial E: \", trial_energy)\n",
    "\n",
    "    # La diferencia de energías se utiliza para aceptar o rechazar el movimiento. \n",
    "    # energy_change entrega la diferencia de energías si el movimiento fue aceptado.\n",
    "    # Si fue rechazado, no hay cambio de energía en el sistema.\n",
    "    energy_diff = trial_energy - old_energy\n",
    "    energy_change = 0.0\n",
    "    if metropolis_step(energy_diff/t_env)\n",
    "        positions[idx] = trial_pos\n",
    "        chirality[idx] = trial_chir\n",
    "        energy_change = energy_diff\n",
    "    end\n",
    "    #println(\"New positions: \", positions[idx])\n",
    "    #println(\"New chirality: \", chirality[idx])\n",
    "    \n",
    "    return positions, chirality, energy_change\n",
    "end"
   ]
  },
  {
   "cell_type": "code",
   "execution_count": 54,
   "metadata": {},
   "outputs": [
    {
     "name": "stderr",
     "output_type": "stream",
     "text": [
      "WARNING: Method definition montecarlo_cycle!(Any, Any, Any, Any, Any, Any) in module Main at In[33]:2 overwritten at In[54]:2.\n"
     ]
    },
    {
     "data": {
      "text/plain": [
       "montecarlo_cycle! (generic function with 1 method)"
      ]
     },
     "execution_count": 54,
     "metadata": {},
     "output_type": "execute_result"
    }
   ],
   "source": [
    "function montecarlo_cycle!(centers, positions, chirality, neighbors, t_env, ncycles)\n",
    "    n_levo = []\n",
    "    n_dextro = []\n",
    "    energies = []\n",
    "    \n",
    "    # Calcular energía total del sistema al inicio. Después se sumará (o restará)\n",
    "    # la diferencia de energías de cada paso de Montecarlo, para no tener qué \n",
    "    # calcular la energía total a cada rato\n",
    "    te = 0.0\n",
    "    for jj in 1:(side*side)\n",
    "        neighbor_pos = Vector(neigh_number + 1)\n",
    "        for (ii, molecules) in enumerate([jj, neighbors[jj]...])\n",
    "            neighbor_pos[ii] = positions[molecules]\n",
    "        end\n",
    "        te += potential_energy(neighbor_pos)\n",
    "    end\n",
    "    # el /2 es porque se cuentan los pares dos veces\n",
    "    te = te/2.0\n",
    "    #println(te)\n",
    "    dextro_counter = count(kk -> kk == \"D\", chirality)\n",
    "    levo_counter = count(kk -> kk == \"L\", chirality)\n",
    "    append!(n_dextro, dextro_counter)\n",
    "    append!(n_levo, levo_counter)\n",
    "    append!(energies, te/(side*side))\n",
    "    #println(\"Energía inicial: \", te)\n",
    "\n",
    "    for kk in 1:ncycles\n",
    "        positions, chirality, energy_change = montecarlo!(centers, positions, chirality, neighbors, t_env)\n",
    "        te += energy_change\n",
    "        #println(te)\n",
    "        # Calcular cosas\n",
    "        if mod(kk, nsample) == 0\n",
    "            # Con estos también podría hacerse lo mismo de contar moléculas con cierta quiralidad desde antes\n",
    "            dextro_counter = count(kk -> kk == \"D\", chirality)\n",
    "            levo_counter = count(kk -> kk == \"L\", chirality)\n",
    "            append!(n_dextro, dextro_counter)\n",
    "            append!(n_levo, levo_counter)\n",
    "            \n",
    "            append!(energies, te/(side*side))\n",
    "        end\n",
    "    end\n",
    "    return n_levo, n_dextro, energies\n",
    "end"
   ]
  },
  {
   "cell_type": "code",
   "execution_count": 55,
   "metadata": {},
   "outputs": [
    {
     "name": "stderr",
     "output_type": "stream",
     "text": [
      "WARNING: Method definition repeat_cycles(Any) in module Main at In[34]:3 overwritten at In[55]:3.\n"
     ]
    },
    {
     "data": {
      "text/plain": [
       "repeat_cycles (generic function with 1 method)"
      ]
     },
     "execution_count": 55,
     "metadata": {},
     "output_type": "execute_result"
    }
   ],
   "source": [
    "function repeat_cycles(reps)\n",
    "    \n",
    "    levos_per_rep = Vector(reps)\n",
    "    dextros_per_rep = Vector(reps)\n",
    "    energies_per_rep = Vector(reps)\n",
    "    \n",
    "    for jj in 1:reps\n",
    "        centers, positions, chirality, neighbors = create_molecules(floor(Int64, side*(side)), atoms_per_molecule)\n",
    "        q1 = deepcopy(chirality)\n",
    "        levos, dextros, energies = montecarlo_cycle!(centers, positions, chirality, neighbors, temperature, cycles)\n",
    "        levos_per_rep[jj] = levos\n",
    "        dextros_per_rep[jj] = dextros\n",
    "        energies_per_rep[jj] = energies\n",
    "        \n",
    "        q1n = Vector(side*side)\n",
    "        q2n = Vector(side*side)\n",
    "        for ii in 1:(side*side)\n",
    "            if q1[ii] == \"D\"\n",
    "                q1n[ii] = 1\n",
    "            else\n",
    "                q1n[ii] = 0\n",
    "            end\n",
    "            if chirality[ii] == \"D\"\n",
    "                q2n[ii] = 1\n",
    "            else\n",
    "                q2n[ii] = 0\n",
    "            end\n",
    "        end\n",
    "        writedlm(direc*\"lambda\"*string(lambda)*\"_\"*string(jj)*\"_inicial.txt\", reshape(q1n, (side, side)))\n",
    "        writedlm(direc*\"lambda\"*string(lambda)*\"_\"*string(jj)*\"_final.txt\", reshape(q2n, (side, side)))\n",
    "    end\n",
    "    return levos_per_rep, dextros_per_rep, energies_per_rep\n",
    "end"
   ]
  },
  {
   "cell_type": "code",
   "execution_count": 56,
   "metadata": {
    "scrolled": true
   },
   "outputs": [
    {
     "name": "stdout",
     "output_type": "stream",
     "text": [
      " 87.366616 seconds (565.44 M allocations: 12.652 GB, 10.66% gc time)\n"
     ]
    },
    {
     "data": {
      "text/plain": [
       "(Any[Any[200,188,191,198,197,202,207,208,213,209  …  400,400,400,400,400,400,400,400,400,400],Any[200,204,199,198,197,201,200,201,198,199  …  200,200,200,200,200,200,200,200,200,200],Any[200,204,206,206,204,205,206,204,211,204  …  400,400,400,400,400,400,400,400,400,400],Any[200,195,201,205,201,204,201,199,204,205  …  280,280,280,280,280,280,280,280,280,280],Any[200,202,201,196,204,200,203,198,195,188  …  0,0,0,0,0,0,0,0,0,0]],Any[Any[200,212,209,202,203,198,193,192,187,191  …  0,0,0,0,0,0,0,0,0,0],Any[200,196,201,202,203,199,200,199,202,201  …  200,200,200,200,200,200,200,200,200,200],Any[200,196,194,194,196,195,194,196,189,196  …  0,0,0,0,0,0,0,0,0,0],Any[200,205,199,195,199,196,199,201,196,195  …  120,120,120,120,120,120,120,120,120,120],Any[200,198,199,204,196,200,197,202,205,212  …  400,400,400,400,400,400,400,400,400,400]],Any[Any[-9.2475,-9.3,-9.3475,-9.3975,-9.4375,-9.495,-9.51,-9.53,-9.555,-9.58  …  -10.0,-10.0,-10.0,-10.0,-10.0,-10.0,-10.0,-10.0,-10.0,-10.0],Any[-9.2825,-9.3275,-9.375,-9.415,-9.4475,-9.485,-9.5125,-9.5325,-9.5575,-9.575  …  -9.95,-9.95,-9.95,-9.95,-9.95,-9.95,-9.95,-9.95,-9.95,-9.95],Any[-9.2325,-9.3125,-9.3475,-9.3975,-9.435,-9.465,-9.49,-9.5275,-9.5575,-9.5825  …  -10.0,-10.0,-10.0,-10.0,-10.0,-10.0,-10.0,-10.0,-10.0,-10.0],Any[-9.215,-9.3075,-9.345,-9.4225,-9.4525,-9.505,-9.525,-9.57,-9.5875,-9.6075  …  -9.95,-9.95,-9.95,-9.95,-9.95,-9.95,-9.95,-9.95,-9.95,-9.95],Any[-9.265,-9.33,-9.37,-9.4175,-9.47,-9.5,-9.525,-9.5525,-9.575,-9.6  …  -10.0,-10.0,-10.0,-10.0,-10.0,-10.0,-10.0,-10.0,-10.0,-10.0]])"
      ]
     },
     "execution_count": 56,
     "metadata": {},
     "output_type": "execute_result"
    }
   ],
   "source": [
    "@time t_levos, t_dextros, t_energies = repeat_cycles(5)"
   ]
  },
  {
   "cell_type": "code",
   "execution_count": 57,
   "metadata": {},
   "outputs": [
    {
     "name": "stderr",
     "output_type": "stream",
     "text": [
      "WARNING: Method definition write_data(Any, Any) in module Main at In[36]:2 overwritten at In[57]:2.\n"
     ]
    },
    {
     "data": {
      "text/plain": [
       "write_data (generic function with 1 method)"
      ]
     },
     "execution_count": 57,
     "metadata": {},
     "output_type": "execute_result"
    }
   ],
   "source": [
    "function write_data(data, file)\n",
    "    rdata = Array{Float64}(length(data), length(data[1]))\n",
    "    for jj in 1:length(data) #4\n",
    "        for ii in 1:length(data[1])\n",
    "            rdata[jj, ii] = data[jj][ii]\n",
    "        end\n",
    "    end\n",
    "    writedlm(direc*file, rdata)\n",
    "end"
   ]
  },
  {
   "cell_type": "code",
   "execution_count": 58,
   "metadata": {},
   "outputs": [],
   "source": [
    "write_data(t_dextros, \"t_dextros_lambda\"*string(lambda)*\".txt\")"
   ]
  },
  {
   "cell_type": "code",
   "execution_count": 59,
   "metadata": {},
   "outputs": [],
   "source": [
    "write_data(t_energies, \"t_energies_lambda\"*string(lambda)*\".txt\")"
   ]
  },
  {
   "cell_type": "code",
   "execution_count": 60,
   "metadata": {},
   "outputs": [],
   "source": [
    "write_data(t_levos, \"t_levos_lambda\"*string(lambda)*\".txt\")"
   ]
  },
  {
   "cell_type": "code",
   "execution_count": null,
   "metadata": {},
   "outputs": [],
   "source": []
  }
 ],
 "metadata": {
  "kernelspec": {
   "display_name": "Julia 0.5.2",
   "language": "julia",
   "name": "julia-0.5"
  },
  "language_info": {
   "file_extension": ".jl",
   "mimetype": "application/julia",
   "name": "julia",
   "version": "0.5.2"
  }
 },
 "nbformat": 4,
 "nbformat_minor": 2
}
