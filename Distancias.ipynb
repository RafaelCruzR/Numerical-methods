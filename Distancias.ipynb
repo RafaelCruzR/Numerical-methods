{
 "cells": [
  {
   "cell_type": "code",
   "execution_count": 1,
   "metadata": {},
   "outputs": [],
   "source": [
    "import pandas as pd"
   ]
  },
  {
   "cell_type": "code",
   "execution_count": 2,
   "metadata": {},
   "outputs": [],
   "source": [
    "from IPython.display import display"
   ]
  },
  {
   "cell_type": "code",
   "execution_count": 4,
   "metadata": {},
   "outputs": [],
   "source": [
    "import sympy as sy\n",
    "l1, l2 = sy.symbols('l1 l2')\n",
    "l1n = 0.9\n",
    "l2n = 0.45"
   ]
  },
  {
   "cell_type": "code",
   "execution_count": 5,
   "metadata": {},
   "outputs": [],
   "source": [
    "sy.init_printing(use_latex='mathjax')"
   ]
  },
  {
   "cell_type": "code",
   "execution_count": 6,
   "metadata": {},
   "outputs": [],
   "source": [
    "cell = [[0, 0], [0, l1], [l2, 0], [l2, l1]]\n",
    "norms = []\n",
    "for jj in range(-1, 2):\n",
    "    for ii in range(-1, 2):\n",
    "        for c in cell:\n",
    "            if ii == 0 and jj == 0:\n",
    "                continue\n",
    "            #a.append([c[0] + ii, c[1] + jj])\n",
    "            norm = sy.sqrt((c[0] + ii)**2 + (c[1] + jj)**2)\n",
    "            norms.append(norm)"
   ]
  },
  {
   "cell_type": "code",
   "execution_count": 7,
   "metadata": {},
   "outputs": [],
   "source": [
    "num_norms = []\n",
    "for norm in norms:\n",
    "    num_norms.append(norm.evalf(subs={l1:l1n, l2:l2n}))"
   ]
  },
  {
   "cell_type": "code",
   "execution_count": 11,
   "metadata": {},
   "outputs": [],
   "source": [
    "df = pd.DataFrame({'Symbolic': norms, 'Numerically': num_norms})\n",
    "#df = pd.DataFrame({'Numerically': num_norms})"
   ]
  },
  {
   "cell_type": "code",
   "execution_count": 12,
   "metadata": {},
   "outputs": [
    {
     "data": {
      "text/html": [
       "<div>\n",
       "<style scoped>\n",
       "    .dataframe tbody tr th:only-of-type {\n",
       "        vertical-align: middle;\n",
       "    }\n",
       "\n",
       "    .dataframe tbody tr th {\n",
       "        vertical-align: top;\n",
       "    }\n",
       "\n",
       "    .dataframe thead th {\n",
       "        text-align: right;\n",
       "    }\n",
       "</style>\n",
       "<table border=\"1\" class=\"dataframe\">\n",
       "  <thead>\n",
       "    <tr style=\"text-align: right;\">\n",
       "      <th></th>\n",
       "      <th>Numerically</th>\n",
       "      <th>Symbolic</th>\n",
       "    </tr>\n",
       "  </thead>\n",
       "  <tbody>\n",
       "    <tr>\n",
       "      <th>0</th>\n",
       "      <td>1.41421356237310</td>\n",
       "      <td>sqrt(2)</td>\n",
       "    </tr>\n",
       "    <tr>\n",
       "      <th>1</th>\n",
       "      <td>1.00498756211209</td>\n",
       "      <td>sqrt((l1 - 1)**2 + 1)</td>\n",
       "    </tr>\n",
       "    <tr>\n",
       "      <th>2</th>\n",
       "      <td>1.14127122105133</td>\n",
       "      <td>sqrt((l2 - 1)**2 + 1)</td>\n",
       "    </tr>\n",
       "    <tr>\n",
       "      <th>3</th>\n",
       "      <td>0.559016994374947</td>\n",
       "      <td>sqrt((l1 - 1)**2 + (l2 - 1)**2)</td>\n",
       "    </tr>\n",
       "    <tr>\n",
       "      <th>4</th>\n",
       "      <td>1.00000000000000</td>\n",
       "      <td>1</td>\n",
       "    </tr>\n",
       "    <tr>\n",
       "      <th>5</th>\n",
       "      <td>0.100000000000000</td>\n",
       "      <td>sqrt((l1 - 1)**2)</td>\n",
       "    </tr>\n",
       "    <tr>\n",
       "      <th>6</th>\n",
       "      <td>1.09658560997307</td>\n",
       "      <td>sqrt(l2**2 + 1)</td>\n",
       "    </tr>\n",
       "    <tr>\n",
       "      <th>7</th>\n",
       "      <td>0.460977222864644</td>\n",
       "      <td>sqrt(l2**2 + (l1 - 1)**2)</td>\n",
       "    </tr>\n",
       "    <tr>\n",
       "      <th>8</th>\n",
       "      <td>1.41421356237310</td>\n",
       "      <td>sqrt(2)</td>\n",
       "    </tr>\n",
       "    <tr>\n",
       "      <th>9</th>\n",
       "      <td>1.00498756211209</td>\n",
       "      <td>sqrt((l1 - 1)**2 + 1)</td>\n",
       "    </tr>\n",
       "    <tr>\n",
       "      <th>10</th>\n",
       "      <td>1.76139149538085</td>\n",
       "      <td>sqrt((l2 + 1)**2 + 1)</td>\n",
       "    </tr>\n",
       "    <tr>\n",
       "      <th>11</th>\n",
       "      <td>1.45344418537486</td>\n",
       "      <td>sqrt((l1 - 1)**2 + (l2 + 1)**2)</td>\n",
       "    </tr>\n",
       "    <tr>\n",
       "      <th>12</th>\n",
       "      <td>1.00000000000000</td>\n",
       "      <td>1</td>\n",
       "    </tr>\n",
       "    <tr>\n",
       "      <th>13</th>\n",
       "      <td>1.34536240470737</td>\n",
       "      <td>sqrt(l1**2 + 1)</td>\n",
       "    </tr>\n",
       "    <tr>\n",
       "      <th>14</th>\n",
       "      <td>0.550000000000000</td>\n",
       "      <td>sqrt((l2 - 1)**2)</td>\n",
       "    </tr>\n",
       "    <tr>\n",
       "      <th>15</th>\n",
       "      <td>1.05475115548645</td>\n",
       "      <td>sqrt(l1**2 + (l2 - 1)**2)</td>\n",
       "    </tr>\n",
       "    <tr>\n",
       "      <th>16</th>\n",
       "      <td>1.00000000000000</td>\n",
       "      <td>1</td>\n",
       "    </tr>\n",
       "    <tr>\n",
       "      <th>17</th>\n",
       "      <td>1.34536240470737</td>\n",
       "      <td>sqrt(l1**2 + 1)</td>\n",
       "    </tr>\n",
       "    <tr>\n",
       "      <th>18</th>\n",
       "      <td>1.45000000000000</td>\n",
       "      <td>sqrt((l2 + 1)**2)</td>\n",
       "    </tr>\n",
       "    <tr>\n",
       "      <th>19</th>\n",
       "      <td>1.70660481658760</td>\n",
       "      <td>sqrt(l1**2 + (l2 + 1)**2)</td>\n",
       "    </tr>\n",
       "    <tr>\n",
       "      <th>20</th>\n",
       "      <td>1.41421356237310</td>\n",
       "      <td>sqrt(2)</td>\n",
       "    </tr>\n",
       "    <tr>\n",
       "      <th>21</th>\n",
       "      <td>2.14709105535839</td>\n",
       "      <td>sqrt((l1 + 1)**2 + 1)</td>\n",
       "    </tr>\n",
       "    <tr>\n",
       "      <th>22</th>\n",
       "      <td>1.14127122105133</td>\n",
       "      <td>sqrt((l2 - 1)**2 + 1)</td>\n",
       "    </tr>\n",
       "    <tr>\n",
       "      <th>23</th>\n",
       "      <td>1.97800404448525</td>\n",
       "      <td>sqrt((l1 + 1)**2 + (l2 - 1)**2)</td>\n",
       "    </tr>\n",
       "    <tr>\n",
       "      <th>24</th>\n",
       "      <td>1.00000000000000</td>\n",
       "      <td>1</td>\n",
       "    </tr>\n",
       "    <tr>\n",
       "      <th>25</th>\n",
       "      <td>1.90000000000000</td>\n",
       "      <td>sqrt((l1 + 1)**2)</td>\n",
       "    </tr>\n",
       "    <tr>\n",
       "      <th>26</th>\n",
       "      <td>1.09658560997307</td>\n",
       "      <td>sqrt(l2**2 + 1)</td>\n",
       "    </tr>\n",
       "    <tr>\n",
       "      <th>27</th>\n",
       "      <td>1.95256241897666</td>\n",
       "      <td>sqrt(l2**2 + (l1 + 1)**2)</td>\n",
       "    </tr>\n",
       "    <tr>\n",
       "      <th>28</th>\n",
       "      <td>1.41421356237310</td>\n",
       "      <td>sqrt(2)</td>\n",
       "    </tr>\n",
       "    <tr>\n",
       "      <th>29</th>\n",
       "      <td>2.14709105535839</td>\n",
       "      <td>sqrt((l1 + 1)**2 + 1)</td>\n",
       "    </tr>\n",
       "    <tr>\n",
       "      <th>30</th>\n",
       "      <td>1.76139149538085</td>\n",
       "      <td>sqrt((l2 + 1)**2 + 1)</td>\n",
       "    </tr>\n",
       "    <tr>\n",
       "      <th>31</th>\n",
       "      <td>2.39008368054342</td>\n",
       "      <td>sqrt((l1 + 1)**2 + (l2 + 1)**2)</td>\n",
       "    </tr>\n",
       "  </tbody>\n",
       "</table>\n",
       "</div>"
      ],
      "text/plain": [
       "          Numerically                         Symbolic\n",
       "0    1.41421356237310                          sqrt(2)\n",
       "1    1.00498756211209            sqrt((l1 - 1)**2 + 1)\n",
       "2    1.14127122105133            sqrt((l2 - 1)**2 + 1)\n",
       "3   0.559016994374947  sqrt((l1 - 1)**2 + (l2 - 1)**2)\n",
       "4    1.00000000000000                                1\n",
       "5   0.100000000000000                sqrt((l1 - 1)**2)\n",
       "6    1.09658560997307                  sqrt(l2**2 + 1)\n",
       "7   0.460977222864644        sqrt(l2**2 + (l1 - 1)**2)\n",
       "8    1.41421356237310                          sqrt(2)\n",
       "9    1.00498756211209            sqrt((l1 - 1)**2 + 1)\n",
       "10   1.76139149538085            sqrt((l2 + 1)**2 + 1)\n",
       "11   1.45344418537486  sqrt((l1 - 1)**2 + (l2 + 1)**2)\n",
       "12   1.00000000000000                                1\n",
       "13   1.34536240470737                  sqrt(l1**2 + 1)\n",
       "14  0.550000000000000                sqrt((l2 - 1)**2)\n",
       "15   1.05475115548645        sqrt(l1**2 + (l2 - 1)**2)\n",
       "16   1.00000000000000                                1\n",
       "17   1.34536240470737                  sqrt(l1**2 + 1)\n",
       "18   1.45000000000000                sqrt((l2 + 1)**2)\n",
       "19   1.70660481658760        sqrt(l1**2 + (l2 + 1)**2)\n",
       "20   1.41421356237310                          sqrt(2)\n",
       "21   2.14709105535839            sqrt((l1 + 1)**2 + 1)\n",
       "22   1.14127122105133            sqrt((l2 - 1)**2 + 1)\n",
       "23   1.97800404448525  sqrt((l1 + 1)**2 + (l2 - 1)**2)\n",
       "24   1.00000000000000                                1\n",
       "25   1.90000000000000                sqrt((l1 + 1)**2)\n",
       "26   1.09658560997307                  sqrt(l2**2 + 1)\n",
       "27   1.95256241897666        sqrt(l2**2 + (l1 + 1)**2)\n",
       "28   1.41421356237310                          sqrt(2)\n",
       "29   2.14709105535839            sqrt((l1 + 1)**2 + 1)\n",
       "30   1.76139149538085            sqrt((l2 + 1)**2 + 1)\n",
       "31   2.39008368054342  sqrt((l1 + 1)**2 + (l2 + 1)**2)"
      ]
     },
     "execution_count": 12,
     "metadata": {},
     "output_type": "execute_result"
    }
   ],
   "source": [
    "df"
   ]
  },
  {
   "cell_type": "code",
   "execution_count": 23,
   "metadata": {},
   "outputs": [
    {
     "data": {
      "text/latex": [
       "$$\\left [ \\sqrt{2}, \\quad 1.4142135623731\\right ]$$"
      ],
      "text/plain": [
       "[√2, 1.4142135623731]"
      ]
     },
     "metadata": {},
     "output_type": "display_data"
    },
    {
     "data": {
      "text/latex": [
       "$$\\left [ \\sqrt{\\left(l_{1} - 1\\right)^{2} + 1}, \\quad 1.00498756211209\\right ]$$"
      ],
      "text/plain": [
       "⎡   _______________                  ⎤\n",
       "⎢  ╱         2                       ⎥\n",
       "⎣╲╱  (l₁ - 1)  + 1 , 1.00498756211209⎦"
      ]
     },
     "metadata": {},
     "output_type": "display_data"
    },
    {
     "data": {
      "text/latex": [
       "$$\\left [ \\sqrt{\\left(l_{2} - 1\\right)^{2} + 1}, \\quad 1.14127122105133\\right ]$$"
      ],
      "text/plain": [
       "⎡   _______________                  ⎤\n",
       "⎢  ╱         2                       ⎥\n",
       "⎣╲╱  (l₂ - 1)  + 1 , 1.14127122105133⎦"
      ]
     },
     "metadata": {},
     "output_type": "display_data"
    },
    {
     "data": {
      "text/latex": [
       "$$\\left [ \\sqrt{\\left(l_{1} - 1\\right)^{2} + \\left(l_{2} - 1\\right)^{2}}, \\quad 0.559016994374947\\right ]$$"
      ],
      "text/plain": [
       "⎡   _______________________                   ⎤\n",
       "⎢  ╱         2           2                    ⎥\n",
       "⎣╲╱  (l₁ - 1)  + (l₂ - 1)  , 0.559016994374947⎦"
      ]
     },
     "metadata": {},
     "output_type": "display_data"
    },
    {
     "data": {
      "text/latex": [
       "$$\\left [ 1, \\quad 1.0\\right ]$$"
      ],
      "text/plain": [
       "[1, 1.0]"
      ]
     },
     "metadata": {},
     "output_type": "display_data"
    },
    {
     "data": {
      "text/latex": [
       "$$\\left [ \\sqrt{\\left(l_{1} - 1\\right)^{2}}, \\quad 0.1\\right ]$$"
      ],
      "text/plain": [
       "⎡   ___________     ⎤\n",
       "⎢  ╱         2      ⎥\n",
       "⎣╲╱  (l₁ - 1)  , 0.1⎦"
      ]
     },
     "metadata": {},
     "output_type": "display_data"
    },
    {
     "data": {
      "text/latex": [
       "$$\\left [ \\sqrt{l_{2}^{2} + 1}, \\quad 1.09658560997307\\right ]$$"
      ],
      "text/plain": [
       "⎡   _________                  ⎤\n",
       "⎢  ╱   2                       ⎥\n",
       "⎣╲╱  l₂  + 1 , 1.09658560997307⎦"
      ]
     },
     "metadata": {},
     "output_type": "display_data"
    },
    {
     "data": {
      "text/latex": [
       "$$\\left [ \\sqrt{l_{2}^{2} + \\left(l_{1} - 1\\right)^{2}}, \\quad 0.460977222864644\\right ]$$"
      ],
      "text/plain": [
       "⎡   _________________                   ⎤\n",
       "⎢  ╱   2           2                    ⎥\n",
       "⎣╲╱  l₂  + (l₁ - 1)  , 0.460977222864644⎦"
      ]
     },
     "metadata": {},
     "output_type": "display_data"
    },
    {
     "data": {
      "text/latex": [
       "$$\\left [ \\sqrt{2}, \\quad 1.4142135623731\\right ]$$"
      ],
      "text/plain": [
       "[√2, 1.4142135623731]"
      ]
     },
     "metadata": {},
     "output_type": "display_data"
    },
    {
     "data": {
      "text/latex": [
       "$$\\left [ \\sqrt{\\left(l_{1} - 1\\right)^{2} + 1}, \\quad 1.00498756211209\\right ]$$"
      ],
      "text/plain": [
       "⎡   _______________                  ⎤\n",
       "⎢  ╱         2                       ⎥\n",
       "⎣╲╱  (l₁ - 1)  + 1 , 1.00498756211209⎦"
      ]
     },
     "metadata": {},
     "output_type": "display_data"
    },
    {
     "data": {
      "text/latex": [
       "$$\\left [ \\sqrt{\\left(l_{2} + 1\\right)^{2} + 1}, \\quad 1.76139149538085\\right ]$$"
      ],
      "text/plain": [
       "⎡   _______________                  ⎤\n",
       "⎢  ╱         2                       ⎥\n",
       "⎣╲╱  (l₂ + 1)  + 1 , 1.76139149538085⎦"
      ]
     },
     "metadata": {},
     "output_type": "display_data"
    },
    {
     "data": {
      "text/latex": [
       "$$\\left [ \\sqrt{\\left(l_{1} - 1\\right)^{2} + \\left(l_{2} + 1\\right)^{2}}, \\quad 1.45344418537486\\right ]$$"
      ],
      "text/plain": [
       "⎡   _______________________                  ⎤\n",
       "⎢  ╱         2           2                   ⎥\n",
       "⎣╲╱  (l₁ - 1)  + (l₂ + 1)  , 1.45344418537486⎦"
      ]
     },
     "metadata": {},
     "output_type": "display_data"
    },
    {
     "data": {
      "text/latex": [
       "$$\\left [ 1, \\quad 1.0\\right ]$$"
      ],
      "text/plain": [
       "[1, 1.0]"
      ]
     },
     "metadata": {},
     "output_type": "display_data"
    },
    {
     "data": {
      "text/latex": [
       "$$\\left [ \\sqrt{l_{1}^{2} + 1}, \\quad 1.34536240470737\\right ]$$"
      ],
      "text/plain": [
       "⎡   _________                  ⎤\n",
       "⎢  ╱   2                       ⎥\n",
       "⎣╲╱  l₁  + 1 , 1.34536240470737⎦"
      ]
     },
     "metadata": {},
     "output_type": "display_data"
    },
    {
     "data": {
      "text/latex": [
       "$$\\left [ \\sqrt{\\left(l_{2} - 1\\right)^{2}}, \\quad 0.55\\right ]$$"
      ],
      "text/plain": [
       "⎡   ___________      ⎤\n",
       "⎢  ╱         2       ⎥\n",
       "⎣╲╱  (l₂ - 1)  , 0.55⎦"
      ]
     },
     "metadata": {},
     "output_type": "display_data"
    },
    {
     "data": {
      "text/latex": [
       "$$\\left [ \\sqrt{l_{1}^{2} + \\left(l_{2} - 1\\right)^{2}}, \\quad 1.05475115548645\\right ]$$"
      ],
      "text/plain": [
       "⎡   _________________                  ⎤\n",
       "⎢  ╱   2           2                   ⎥\n",
       "⎣╲╱  l₁  + (l₂ - 1)  , 1.05475115548645⎦"
      ]
     },
     "metadata": {},
     "output_type": "display_data"
    },
    {
     "data": {
      "text/latex": [
       "$$\\left [ 1, \\quad 1.0\\right ]$$"
      ],
      "text/plain": [
       "[1, 1.0]"
      ]
     },
     "metadata": {},
     "output_type": "display_data"
    },
    {
     "data": {
      "text/latex": [
       "$$\\left [ \\sqrt{l_{1}^{2} + 1}, \\quad 1.34536240470737\\right ]$$"
      ],
      "text/plain": [
       "⎡   _________                  ⎤\n",
       "⎢  ╱   2                       ⎥\n",
       "⎣╲╱  l₁  + 1 , 1.34536240470737⎦"
      ]
     },
     "metadata": {},
     "output_type": "display_data"
    },
    {
     "data": {
      "text/latex": [
       "$$\\left [ \\sqrt{\\left(l_{2} + 1\\right)^{2}}, \\quad 1.45\\right ]$$"
      ],
      "text/plain": [
       "⎡   ___________      ⎤\n",
       "⎢  ╱         2       ⎥\n",
       "⎣╲╱  (l₂ + 1)  , 1.45⎦"
      ]
     },
     "metadata": {},
     "output_type": "display_data"
    },
    {
     "data": {
      "text/latex": [
       "$$\\left [ \\sqrt{l_{1}^{2} + \\left(l_{2} + 1\\right)^{2}}, \\quad 1.7066048165876\\right ]$$"
      ],
      "text/plain": [
       "⎡   _________________                 ⎤\n",
       "⎢  ╱   2           2                  ⎥\n",
       "⎣╲╱  l₁  + (l₂ + 1)  , 1.7066048165876⎦"
      ]
     },
     "metadata": {},
     "output_type": "display_data"
    },
    {
     "data": {
      "text/latex": [
       "$$\\left [ \\sqrt{2}, \\quad 1.4142135623731\\right ]$$"
      ],
      "text/plain": [
       "[√2, 1.4142135623731]"
      ]
     },
     "metadata": {},
     "output_type": "display_data"
    },
    {
     "data": {
      "text/latex": [
       "$$\\left [ \\sqrt{\\left(l_{1} + 1\\right)^{2} + 1}, \\quad 2.14709105535839\\right ]$$"
      ],
      "text/plain": [
       "⎡   _______________                  ⎤\n",
       "⎢  ╱         2                       ⎥\n",
       "⎣╲╱  (l₁ + 1)  + 1 , 2.14709105535839⎦"
      ]
     },
     "metadata": {},
     "output_type": "display_data"
    },
    {
     "data": {
      "text/latex": [
       "$$\\left [ \\sqrt{\\left(l_{2} - 1\\right)^{2} + 1}, \\quad 1.14127122105133\\right ]$$"
      ],
      "text/plain": [
       "⎡   _______________                  ⎤\n",
       "⎢  ╱         2                       ⎥\n",
       "⎣╲╱  (l₂ - 1)  + 1 , 1.14127122105133⎦"
      ]
     },
     "metadata": {},
     "output_type": "display_data"
    },
    {
     "data": {
      "text/latex": [
       "$$\\left [ \\sqrt{\\left(l_{1} + 1\\right)^{2} + \\left(l_{2} - 1\\right)^{2}}, \\quad 1.97800404448525\\right ]$$"
      ],
      "text/plain": [
       "⎡   _______________________                  ⎤\n",
       "⎢  ╱         2           2                   ⎥\n",
       "⎣╲╱  (l₁ + 1)  + (l₂ - 1)  , 1.97800404448525⎦"
      ]
     },
     "metadata": {},
     "output_type": "display_data"
    },
    {
     "data": {
      "text/latex": [
       "$$\\left [ 1, \\quad 1.0\\right ]$$"
      ],
      "text/plain": [
       "[1, 1.0]"
      ]
     },
     "metadata": {},
     "output_type": "display_data"
    },
    {
     "data": {
      "text/latex": [
       "$$\\left [ \\sqrt{\\left(l_{1} + 1\\right)^{2}}, \\quad 1.9\\right ]$$"
      ],
      "text/plain": [
       "⎡   ___________     ⎤\n",
       "⎢  ╱         2      ⎥\n",
       "⎣╲╱  (l₁ + 1)  , 1.9⎦"
      ]
     },
     "metadata": {},
     "output_type": "display_data"
    },
    {
     "data": {
      "text/latex": [
       "$$\\left [ \\sqrt{l_{2}^{2} + 1}, \\quad 1.09658560997307\\right ]$$"
      ],
      "text/plain": [
       "⎡   _________                  ⎤\n",
       "⎢  ╱   2                       ⎥\n",
       "⎣╲╱  l₂  + 1 , 1.09658560997307⎦"
      ]
     },
     "metadata": {},
     "output_type": "display_data"
    },
    {
     "data": {
      "text/latex": [
       "$$\\left [ \\sqrt{l_{2}^{2} + \\left(l_{1} + 1\\right)^{2}}, \\quad 1.95256241897666\\right ]$$"
      ],
      "text/plain": [
       "⎡   _________________                  ⎤\n",
       "⎢  ╱   2           2                   ⎥\n",
       "⎣╲╱  l₂  + (l₁ + 1)  , 1.95256241897666⎦"
      ]
     },
     "metadata": {},
     "output_type": "display_data"
    },
    {
     "data": {
      "text/latex": [
       "$$\\left [ \\sqrt{2}, \\quad 1.4142135623731\\right ]$$"
      ],
      "text/plain": [
       "[√2, 1.4142135623731]"
      ]
     },
     "metadata": {},
     "output_type": "display_data"
    },
    {
     "data": {
      "text/latex": [
       "$$\\left [ \\sqrt{\\left(l_{1} + 1\\right)^{2} + 1}, \\quad 2.14709105535839\\right ]$$"
      ],
      "text/plain": [
       "⎡   _______________                  ⎤\n",
       "⎢  ╱         2                       ⎥\n",
       "⎣╲╱  (l₁ + 1)  + 1 , 2.14709105535839⎦"
      ]
     },
     "metadata": {},
     "output_type": "display_data"
    },
    {
     "data": {
      "text/latex": [
       "$$\\left [ \\sqrt{\\left(l_{2} + 1\\right)^{2} + 1}, \\quad 1.76139149538085\\right ]$$"
      ],
      "text/plain": [
       "⎡   _______________                  ⎤\n",
       "⎢  ╱         2                       ⎥\n",
       "⎣╲╱  (l₂ + 1)  + 1 , 1.76139149538085⎦"
      ]
     },
     "metadata": {},
     "output_type": "display_data"
    },
    {
     "data": {
      "text/latex": [
       "$$\\left [ \\sqrt{\\left(l_{1} + 1\\right)^{2} + \\left(l_{2} + 1\\right)^{2}}, \\quad 2.39008368054342\\right ]$$"
      ],
      "text/plain": [
       "⎡   _______________________                  ⎤\n",
       "⎢  ╱         2           2                   ⎥\n",
       "⎣╲╱  (l₁ + 1)  + (l₂ + 1)  , 2.39008368054342⎦"
      ]
     },
     "metadata": {},
     "output_type": "display_data"
    }
   ],
   "source": [
    "for ii in range(len(norms)):\n",
    "    display([norms[ii], num_norms[ii]])"
   ]
  },
  {
   "cell_type": "code",
   "execution_count": null,
   "metadata": {},
   "outputs": [],
   "source": []
  }
 ],
 "metadata": {
  "kernelspec": {
   "display_name": "Python 3",
   "language": "python",
   "name": "python3"
  },
  "language_info": {
   "codemirror_mode": {
    "name": "ipython",
    "version": 3
   },
   "file_extension": ".py",
   "mimetype": "text/x-python",
   "name": "python",
   "nbconvert_exporter": "python",
   "pygments_lexer": "ipython3",
   "version": "3.6.5"
  }
 },
 "nbformat": 4,
 "nbformat_minor": 2
}
