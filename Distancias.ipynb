{
 "cells": [
  {
   "cell_type": "code",
   "execution_count": 1,
   "metadata": {},
   "outputs": [],
   "source": [
    "import pandas as pd\n",
    "import sympy as sy"
   ]
  },
  {
   "cell_type": "code",
   "execution_count": 2,
   "metadata": {},
   "outputs": [],
   "source": [
    "from IPython.display import display"
   ]
  },
  {
   "cell_type": "code",
   "execution_count": 3,
   "metadata": {},
   "outputs": [],
   "source": [
    "sy.init_printing(use_latex='mathjax')"
   ]
  },
  {
   "cell_type": "code",
   "execution_count": 4,
   "metadata": {},
   "outputs": [],
   "source": [
    "l1, l2 = sy.symbols('l1 l2')\n",
    "l1n = 0.9\n",
    "l2n = 0.45"
   ]
  },
  {
   "cell_type": "code",
   "execution_count": 5,
   "metadata": {},
   "outputs": [],
   "source": [
    "cell = [[0, 0], [0, l1], [l2, 0], [l2, l1]]\n",
    "norms = []\n",
    "for jj in range(-1, 2):\n",
    "    for ii in range(-1, 2):\n",
    "        for c in cell:\n",
    "            if ii == 0 and jj == 0:\n",
    "                continue\n",
    "            #a.append([c[0] + ii, c[1] + jj])\n",
    "            norm = sy.sqrt((c[0] + ii)**2 + (c[1] + jj)**2)\n",
    "            norms.append(norm)"
   ]
  },
  {
   "cell_type": "code",
   "execution_count": 6,
   "metadata": {},
   "outputs": [],
   "source": [
    "num_norms = []\n",
    "for norm in norms:\n",
    "    num_norms.append(norm.evalf(subs={l1:l1n, l2:l2n}))"
   ]
  },
  {
   "cell_type": "code",
   "execution_count": 7,
   "metadata": {},
   "outputs": [],
   "source": [
    "df = pd.DataFrame({'Symbolic': norms, 'Numerically': num_norms})\n",
    "#df = pd.DataFrame({'Numerically': num_norms})"
   ]
  },
  {
   "cell_type": "code",
   "execution_count": 16,
   "metadata": {},
   "outputs": [],
   "source": [
    "#print(df.to_latex())"
   ]
  },
  {
   "cell_type": "code",
   "execution_count": 8,
   "metadata": {},
   "outputs": [
    {
     "data": {
      "text/latex": [
       "$$\\left [ 1, \\quad \\sqrt{2}, \\quad 1.4142135623731\\right ]$$"
      ],
      "text/plain": [
       "[1, √2, 1.4142135623731]"
      ]
     },
     "metadata": {},
     "output_type": "display_data"
    },
    {
     "data": {
      "text/latex": [
       "$$\\left [ 2, \\quad \\sqrt{\\left(l_{1} - 1\\right)^{2} + 1}, \\quad 1.00498756211209\\right ]$$"
      ],
      "text/plain": [
       "⎡      _______________                  ⎤\n",
       "⎢     ╱         2                       ⎥\n",
       "⎣2, ╲╱  (l₁ - 1)  + 1 , 1.00498756211209⎦"
      ]
     },
     "metadata": {},
     "output_type": "display_data"
    },
    {
     "data": {
      "text/latex": [
       "$$\\left [ 3, \\quad \\sqrt{\\left(l_{2} - 1\\right)^{2} + 1}, \\quad 1.14127122105133\\right ]$$"
      ],
      "text/plain": [
       "⎡      _______________                  ⎤\n",
       "⎢     ╱         2                       ⎥\n",
       "⎣3, ╲╱  (l₂ - 1)  + 1 , 1.14127122105133⎦"
      ]
     },
     "metadata": {},
     "output_type": "display_data"
    },
    {
     "data": {
      "text/latex": [
       "$$\\left [ 4, \\quad \\sqrt{\\left(l_{1} - 1\\right)^{2} + \\left(l_{2} - 1\\right)^{2}}, \\quad 0.559016994374947\\right ]$$"
      ],
      "text/plain": [
       "⎡      _______________________                   ⎤\n",
       "⎢     ╱         2           2                    ⎥\n",
       "⎣4, ╲╱  (l₁ - 1)  + (l₂ - 1)  , 0.559016994374947⎦"
      ]
     },
     "metadata": {},
     "output_type": "display_data"
    },
    {
     "data": {
      "text/latex": [
       "$$\\left [ 5, \\quad 1, \\quad 1.0\\right ]$$"
      ],
      "text/plain": [
       "[5, 1, 1.0]"
      ]
     },
     "metadata": {},
     "output_type": "display_data"
    },
    {
     "data": {
      "text/latex": [
       "$$\\left [ 6, \\quad \\sqrt{\\left(l_{1} - 1\\right)^{2}}, \\quad 0.1\\right ]$$"
      ],
      "text/plain": [
       "⎡      ___________     ⎤\n",
       "⎢     ╱         2      ⎥\n",
       "⎣6, ╲╱  (l₁ - 1)  , 0.1⎦"
      ]
     },
     "metadata": {},
     "output_type": "display_data"
    },
    {
     "data": {
      "text/latex": [
       "$$\\left [ 7, \\quad \\sqrt{l_{2}^{2} + 1}, \\quad 1.09658560997307\\right ]$$"
      ],
      "text/plain": [
       "⎡      _________                  ⎤\n",
       "⎢     ╱   2                       ⎥\n",
       "⎣7, ╲╱  l₂  + 1 , 1.09658560997307⎦"
      ]
     },
     "metadata": {},
     "output_type": "display_data"
    },
    {
     "data": {
      "text/latex": [
       "$$\\left [ 8, \\quad \\sqrt{l_{2}^{2} + \\left(l_{1} - 1\\right)^{2}}, \\quad 0.460977222864644\\right ]$$"
      ],
      "text/plain": [
       "⎡      _________________                   ⎤\n",
       "⎢     ╱   2           2                    ⎥\n",
       "⎣8, ╲╱  l₂  + (l₁ - 1)  , 0.460977222864644⎦"
      ]
     },
     "metadata": {},
     "output_type": "display_data"
    },
    {
     "data": {
      "text/latex": [
       "$$\\left [ 9, \\quad \\sqrt{2}, \\quad 1.4142135623731\\right ]$$"
      ],
      "text/plain": [
       "[9, √2, 1.4142135623731]"
      ]
     },
     "metadata": {},
     "output_type": "display_data"
    },
    {
     "data": {
      "text/latex": [
       "$$\\left [ 10, \\quad \\sqrt{\\left(l_{1} - 1\\right)^{2} + 1}, \\quad 1.00498756211209\\right ]$$"
      ],
      "text/plain": [
       "⎡       _______________                  ⎤\n",
       "⎢      ╱         2                       ⎥\n",
       "⎣10, ╲╱  (l₁ - 1)  + 1 , 1.00498756211209⎦"
      ]
     },
     "metadata": {},
     "output_type": "display_data"
    },
    {
     "data": {
      "text/latex": [
       "$$\\left [ 11, \\quad \\sqrt{\\left(l_{2} + 1\\right)^{2} + 1}, \\quad 1.76139149538085\\right ]$$"
      ],
      "text/plain": [
       "⎡       _______________                  ⎤\n",
       "⎢      ╱         2                       ⎥\n",
       "⎣11, ╲╱  (l₂ + 1)  + 1 , 1.76139149538085⎦"
      ]
     },
     "metadata": {},
     "output_type": "display_data"
    },
    {
     "data": {
      "text/latex": [
       "$$\\left [ 12, \\quad \\sqrt{\\left(l_{1} - 1\\right)^{2} + \\left(l_{2} + 1\\right)^{2}}, \\quad 1.45344418537486\\right ]$$"
      ],
      "text/plain": [
       "⎡       _______________________                  ⎤\n",
       "⎢      ╱         2           2                   ⎥\n",
       "⎣12, ╲╱  (l₁ - 1)  + (l₂ + 1)  , 1.45344418537486⎦"
      ]
     },
     "metadata": {},
     "output_type": "display_data"
    },
    {
     "data": {
      "text/latex": [
       "$$\\left [ 13, \\quad 1, \\quad 1.0\\right ]$$"
      ],
      "text/plain": [
       "[13, 1, 1.0]"
      ]
     },
     "metadata": {},
     "output_type": "display_data"
    },
    {
     "data": {
      "text/latex": [
       "$$\\left [ 14, \\quad \\sqrt{l_{1}^{2} + 1}, \\quad 1.34536240470737\\right ]$$"
      ],
      "text/plain": [
       "⎡       _________                  ⎤\n",
       "⎢      ╱   2                       ⎥\n",
       "⎣14, ╲╱  l₁  + 1 , 1.34536240470737⎦"
      ]
     },
     "metadata": {},
     "output_type": "display_data"
    },
    {
     "data": {
      "text/latex": [
       "$$\\left [ 15, \\quad \\sqrt{\\left(l_{2} - 1\\right)^{2}}, \\quad 0.55\\right ]$$"
      ],
      "text/plain": [
       "⎡       ___________      ⎤\n",
       "⎢      ╱         2       ⎥\n",
       "⎣15, ╲╱  (l₂ - 1)  , 0.55⎦"
      ]
     },
     "metadata": {},
     "output_type": "display_data"
    },
    {
     "data": {
      "text/latex": [
       "$$\\left [ 16, \\quad \\sqrt{l_{1}^{2} + \\left(l_{2} - 1\\right)^{2}}, \\quad 1.05475115548645\\right ]$$"
      ],
      "text/plain": [
       "⎡       _________________                  ⎤\n",
       "⎢      ╱   2           2                   ⎥\n",
       "⎣16, ╲╱  l₁  + (l₂ - 1)  , 1.05475115548645⎦"
      ]
     },
     "metadata": {},
     "output_type": "display_data"
    },
    {
     "data": {
      "text/latex": [
       "$$\\left [ 17, \\quad 1, \\quad 1.0\\right ]$$"
      ],
      "text/plain": [
       "[17, 1, 1.0]"
      ]
     },
     "metadata": {},
     "output_type": "display_data"
    },
    {
     "data": {
      "text/latex": [
       "$$\\left [ 18, \\quad \\sqrt{l_{1}^{2} + 1}, \\quad 1.34536240470737\\right ]$$"
      ],
      "text/plain": [
       "⎡       _________                  ⎤\n",
       "⎢      ╱   2                       ⎥\n",
       "⎣18, ╲╱  l₁  + 1 , 1.34536240470737⎦"
      ]
     },
     "metadata": {},
     "output_type": "display_data"
    },
    {
     "data": {
      "text/latex": [
       "$$\\left [ 19, \\quad \\sqrt{\\left(l_{2} + 1\\right)^{2}}, \\quad 1.45\\right ]$$"
      ],
      "text/plain": [
       "⎡       ___________      ⎤\n",
       "⎢      ╱         2       ⎥\n",
       "⎣19, ╲╱  (l₂ + 1)  , 1.45⎦"
      ]
     },
     "metadata": {},
     "output_type": "display_data"
    },
    {
     "data": {
      "text/latex": [
       "$$\\left [ 20, \\quad \\sqrt{l_{1}^{2} + \\left(l_{2} + 1\\right)^{2}}, \\quad 1.7066048165876\\right ]$$"
      ],
      "text/plain": [
       "⎡       _________________                 ⎤\n",
       "⎢      ╱   2           2                  ⎥\n",
       "⎣20, ╲╱  l₁  + (l₂ + 1)  , 1.7066048165876⎦"
      ]
     },
     "metadata": {},
     "output_type": "display_data"
    },
    {
     "data": {
      "text/latex": [
       "$$\\left [ 21, \\quad \\sqrt{2}, \\quad 1.4142135623731\\right ]$$"
      ],
      "text/plain": [
       "[21, √2, 1.4142135623731]"
      ]
     },
     "metadata": {},
     "output_type": "display_data"
    },
    {
     "data": {
      "text/latex": [
       "$$\\left [ 22, \\quad \\sqrt{\\left(l_{1} + 1\\right)^{2} + 1}, \\quad 2.14709105535839\\right ]$$"
      ],
      "text/plain": [
       "⎡       _______________                  ⎤\n",
       "⎢      ╱         2                       ⎥\n",
       "⎣22, ╲╱  (l₁ + 1)  + 1 , 2.14709105535839⎦"
      ]
     },
     "metadata": {},
     "output_type": "display_data"
    },
    {
     "data": {
      "text/latex": [
       "$$\\left [ 23, \\quad \\sqrt{\\left(l_{2} - 1\\right)^{2} + 1}, \\quad 1.14127122105133\\right ]$$"
      ],
      "text/plain": [
       "⎡       _______________                  ⎤\n",
       "⎢      ╱         2                       ⎥\n",
       "⎣23, ╲╱  (l₂ - 1)  + 1 , 1.14127122105133⎦"
      ]
     },
     "metadata": {},
     "output_type": "display_data"
    },
    {
     "data": {
      "text/latex": [
       "$$\\left [ 24, \\quad \\sqrt{\\left(l_{1} + 1\\right)^{2} + \\left(l_{2} - 1\\right)^{2}}, \\quad 1.97800404448525\\right ]$$"
      ],
      "text/plain": [
       "⎡       _______________________                  ⎤\n",
       "⎢      ╱         2           2                   ⎥\n",
       "⎣24, ╲╱  (l₁ + 1)  + (l₂ - 1)  , 1.97800404448525⎦"
      ]
     },
     "metadata": {},
     "output_type": "display_data"
    },
    {
     "data": {
      "text/latex": [
       "$$\\left [ 25, \\quad 1, \\quad 1.0\\right ]$$"
      ],
      "text/plain": [
       "[25, 1, 1.0]"
      ]
     },
     "metadata": {},
     "output_type": "display_data"
    },
    {
     "data": {
      "text/latex": [
       "$$\\left [ 26, \\quad \\sqrt{\\left(l_{1} + 1\\right)^{2}}, \\quad 1.9\\right ]$$"
      ],
      "text/plain": [
       "⎡       ___________     ⎤\n",
       "⎢      ╱         2      ⎥\n",
       "⎣26, ╲╱  (l₁ + 1)  , 1.9⎦"
      ]
     },
     "metadata": {},
     "output_type": "display_data"
    },
    {
     "data": {
      "text/latex": [
       "$$\\left [ 27, \\quad \\sqrt{l_{2}^{2} + 1}, \\quad 1.09658560997307\\right ]$$"
      ],
      "text/plain": [
       "⎡       _________                  ⎤\n",
       "⎢      ╱   2                       ⎥\n",
       "⎣27, ╲╱  l₂  + 1 , 1.09658560997307⎦"
      ]
     },
     "metadata": {},
     "output_type": "display_data"
    },
    {
     "data": {
      "text/latex": [
       "$$\\left [ 28, \\quad \\sqrt{l_{2}^{2} + \\left(l_{1} + 1\\right)^{2}}, \\quad 1.95256241897666\\right ]$$"
      ],
      "text/plain": [
       "⎡       _________________                  ⎤\n",
       "⎢      ╱   2           2                   ⎥\n",
       "⎣28, ╲╱  l₂  + (l₁ + 1)  , 1.95256241897666⎦"
      ]
     },
     "metadata": {},
     "output_type": "display_data"
    },
    {
     "data": {
      "text/latex": [
       "$$\\left [ 29, \\quad \\sqrt{2}, \\quad 1.4142135623731\\right ]$$"
      ],
      "text/plain": [
       "[29, √2, 1.4142135623731]"
      ]
     },
     "metadata": {},
     "output_type": "display_data"
    },
    {
     "data": {
      "text/latex": [
       "$$\\left [ 30, \\quad \\sqrt{\\left(l_{1} + 1\\right)^{2} + 1}, \\quad 2.14709105535839\\right ]$$"
      ],
      "text/plain": [
       "⎡       _______________                  ⎤\n",
       "⎢      ╱         2                       ⎥\n",
       "⎣30, ╲╱  (l₁ + 1)  + 1 , 2.14709105535839⎦"
      ]
     },
     "metadata": {},
     "output_type": "display_data"
    },
    {
     "data": {
      "text/latex": [
       "$$\\left [ 31, \\quad \\sqrt{\\left(l_{2} + 1\\right)^{2} + 1}, \\quad 1.76139149538085\\right ]$$"
      ],
      "text/plain": [
       "⎡       _______________                  ⎤\n",
       "⎢      ╱         2                       ⎥\n",
       "⎣31, ╲╱  (l₂ + 1)  + 1 , 1.76139149538085⎦"
      ]
     },
     "metadata": {},
     "output_type": "display_data"
    },
    {
     "data": {
      "text/latex": [
       "$$\\left [ 32, \\quad \\sqrt{\\left(l_{1} + 1\\right)^{2} + \\left(l_{2} + 1\\right)^{2}}, \\quad 2.39008368054342\\right ]$$"
      ],
      "text/plain": [
       "⎡       _______________________                  ⎤\n",
       "⎢      ╱         2           2                   ⎥\n",
       "⎣32, ╲╱  (l₁ + 1)  + (l₂ + 1)  , 2.39008368054342⎦"
      ]
     },
     "metadata": {},
     "output_type": "display_data"
    }
   ],
   "source": [
    "for ii in range(len(norms)):\n",
    "    display([ii + 1, norms[ii], num_norms[ii]])"
   ]
  },
  {
   "cell_type": "code",
   "execution_count": 17,
   "metadata": {},
   "outputs": [
    {
     "data": {
      "text/latex": [
       "$$\\left [ \\left [ 6\\right ], \\quad \\sqrt{2}, \\quad 0.1\\right ]$$"
      ],
      "text/plain": [
       "[[6], √2, 0.1]"
      ]
     },
     "metadata": {},
     "output_type": "display_data"
    },
    {
     "data": {
      "text/latex": [
       "$$\\left [ \\left [ 8\\right ], \\quad \\sqrt{\\left(l_{1} - 1\\right)^{2} + 1}, \\quad 0.460977222864644\\right ]$$"
      ],
      "text/plain": [
       "⎡        _______________                   ⎤\n",
       "⎢       ╱         2                        ⎥\n",
       "⎣[8], ╲╱  (l₁ - 1)  + 1 , 0.460977222864644⎦"
      ]
     },
     "metadata": {},
     "output_type": "display_data"
    },
    {
     "data": {
      "text/latex": [
       "$$\\left [ \\left [ 15\\right ], \\quad \\sqrt{\\left(l_{2} - 1\\right)^{2} + 1}, \\quad 0.55\\right ]$$"
      ],
      "text/plain": [
       "⎡         _______________      ⎤\n",
       "⎢        ╱         2           ⎥\n",
       "⎣[15], ╲╱  (l₂ - 1)  + 1 , 0.55⎦"
      ]
     },
     "metadata": {},
     "output_type": "display_data"
    },
    {
     "data": {
      "text/latex": [
       "$$\\left [ \\left [ 4\\right ], \\quad \\sqrt{\\left(l_{1} - 1\\right)^{2} + \\left(l_{2} - 1\\right)^{2}}, \\quad 0.559016994374947\\right ]$$"
      ],
      "text/plain": [
       "⎡        _______________________                   ⎤\n",
       "⎢       ╱         2           2                    ⎥\n",
       "⎣[4], ╲╱  (l₁ - 1)  + (l₂ - 1)  , 0.559016994374947⎦"
      ]
     },
     "metadata": {},
     "output_type": "display_data"
    },
    {
     "data": {
      "text/latex": [
       "$$\\left [ \\left [ 5, \\quad 13, \\quad 17, \\quad 25\\right ], \\quad 1, \\quad 1.0\\right ]$$"
      ],
      "text/plain": [
       "[[5, 13, 17, 25], 1, 1.0]"
      ]
     },
     "metadata": {},
     "output_type": "display_data"
    },
    {
     "data": {
      "text/latex": [
       "$$\\left [ \\left [ 2, \\quad 10\\right ], \\quad \\sqrt{\\left(l_{1} - 1\\right)^{2}}, \\quad 1.00498756211209\\right ]$$"
      ],
      "text/plain": [
       "⎡            ___________                  ⎤\n",
       "⎢           ╱         2                   ⎥\n",
       "⎣[2, 10], ╲╱  (l₁ - 1)  , 1.00498756211209⎦"
      ]
     },
     "metadata": {},
     "output_type": "display_data"
    },
    {
     "data": {
      "text/latex": [
       "$$\\left [ \\left [ 16\\right ], \\quad \\sqrt{l_{2}^{2} + 1}, \\quad 1.05475115548645\\right ]$$"
      ],
      "text/plain": [
       "⎡         _________                  ⎤\n",
       "⎢        ╱   2                       ⎥\n",
       "⎣[16], ╲╱  l₂  + 1 , 1.05475115548645⎦"
      ]
     },
     "metadata": {},
     "output_type": "display_data"
    },
    {
     "data": {
      "text/latex": [
       "$$\\left [ \\left [ 7, \\quad 27\\right ], \\quad \\sqrt{l_{2}^{2} + \\left(l_{1} - 1\\right)^{2}}, \\quad 1.09658560997307\\right ]$$"
      ],
      "text/plain": [
       "⎡            _________________                  ⎤\n",
       "⎢           ╱   2           2                   ⎥\n",
       "⎣[7, 27], ╲╱  l₂  + (l₁ - 1)  , 1.09658560997307⎦"
      ]
     },
     "metadata": {},
     "output_type": "display_data"
    },
    {
     "data": {
      "text/latex": [
       "$$\\left [ \\left [ 3, \\quad 23\\right ], \\quad \\sqrt{2}, \\quad 1.14127122105133\\right ]$$"
      ],
      "text/plain": [
       "[[3, 23], √2, 1.14127122105133]"
      ]
     },
     "metadata": {},
     "output_type": "display_data"
    },
    {
     "data": {
      "text/latex": [
       "$$\\left [ \\left [ 14, \\quad 18\\right ], \\quad \\sqrt{\\left(l_{1} - 1\\right)^{2} + 1}, \\quad 1.34536240470737\\right ]$$"
      ],
      "text/plain": [
       "⎡             _______________                  ⎤\n",
       "⎢            ╱         2                       ⎥\n",
       "⎣[14, 18], ╲╱  (l₁ - 1)  + 1 , 1.34536240470737⎦"
      ]
     },
     "metadata": {},
     "output_type": "display_data"
    },
    {
     "data": {
      "text/latex": [
       "$$\\left [ \\left [ 1, \\quad 9, \\quad 21, \\quad 29\\right ], \\quad \\sqrt{\\left(l_{2} + 1\\right)^{2} + 1}, \\quad 1.4142135623731\\right ]$$"
      ],
      "text/plain": [
       "⎡                   _______________                 ⎤\n",
       "⎢                  ╱         2                      ⎥\n",
       "⎣[1, 9, 21, 29], ╲╱  (l₂ + 1)  + 1 , 1.4142135623731⎦"
      ]
     },
     "metadata": {},
     "output_type": "display_data"
    },
    {
     "data": {
      "text/latex": [
       "$$\\left [ \\left [ 19\\right ], \\quad \\sqrt{\\left(l_{1} - 1\\right)^{2} + \\left(l_{2} + 1\\right)^{2}}, \\quad 1.45\\right ]$$"
      ],
      "text/plain": [
       "⎡         _______________________      ⎤\n",
       "⎢        ╱         2           2       ⎥\n",
       "⎣[19], ╲╱  (l₁ - 1)  + (l₂ + 1)  , 1.45⎦"
      ]
     },
     "metadata": {},
     "output_type": "display_data"
    },
    {
     "data": {
      "text/latex": [
       "$$\\left [ \\left [ 12\\right ], \\quad 1, \\quad 1.45344418537486\\right ]$$"
      ],
      "text/plain": [
       "[[12], 1, 1.45344418537486]"
      ]
     },
     "metadata": {},
     "output_type": "display_data"
    },
    {
     "data": {
      "text/latex": [
       "$$\\left [ \\left [ 20\\right ], \\quad \\sqrt{l_{1}^{2} + 1}, \\quad 1.7066048165876\\right ]$$"
      ],
      "text/plain": [
       "⎡         _________                 ⎤\n",
       "⎢        ╱   2                      ⎥\n",
       "⎣[20], ╲╱  l₁  + 1 , 1.7066048165876⎦"
      ]
     },
     "metadata": {},
     "output_type": "display_data"
    },
    {
     "data": {
      "text/latex": [
       "$$\\left [ \\left [ 11, \\quad 31\\right ], \\quad \\sqrt{\\left(l_{2} - 1\\right)^{2}}, \\quad 1.76139149538085\\right ]$$"
      ],
      "text/plain": [
       "⎡             ___________                  ⎤\n",
       "⎢            ╱         2                   ⎥\n",
       "⎣[11, 31], ╲╱  (l₂ - 1)  , 1.76139149538085⎦"
      ]
     },
     "metadata": {},
     "output_type": "display_data"
    },
    {
     "data": {
      "text/latex": [
       "$$\\left [ \\left [ 26\\right ], \\quad \\sqrt{l_{1}^{2} + \\left(l_{2} - 1\\right)^{2}}, \\quad 1.9\\right ]$$"
      ],
      "text/plain": [
       "⎡         _________________     ⎤\n",
       "⎢        ╱   2           2      ⎥\n",
       "⎣[26], ╲╱  l₁  + (l₂ - 1)  , 1.9⎦"
      ]
     },
     "metadata": {},
     "output_type": "display_data"
    },
    {
     "data": {
      "text/latex": [
       "$$\\left [ \\left [ 28\\right ], \\quad 1, \\quad 1.95256241897666\\right ]$$"
      ],
      "text/plain": [
       "[[28], 1, 1.95256241897666]"
      ]
     },
     "metadata": {},
     "output_type": "display_data"
    },
    {
     "data": {
      "text/latex": [
       "$$\\left [ \\left [ 24\\right ], \\quad \\sqrt{l_{1}^{2} + 1}, \\quad 1.97800404448525\\right ]$$"
      ],
      "text/plain": [
       "⎡         _________                  ⎤\n",
       "⎢        ╱   2                       ⎥\n",
       "⎣[24], ╲╱  l₁  + 1 , 1.97800404448525⎦"
      ]
     },
     "metadata": {},
     "output_type": "display_data"
    },
    {
     "data": {
      "text/latex": [
       "$$\\left [ \\left [ 22, \\quad 30\\right ], \\quad \\sqrt{\\left(l_{2} + 1\\right)^{2}}, \\quad 2.14709105535839\\right ]$$"
      ],
      "text/plain": [
       "⎡             ___________                  ⎤\n",
       "⎢            ╱         2                   ⎥\n",
       "⎣[22, 30], ╲╱  (l₂ + 1)  , 2.14709105535839⎦"
      ]
     },
     "metadata": {},
     "output_type": "display_data"
    },
    {
     "data": {
      "text/latex": [
       "$$\\left [ \\left [ 32\\right ], \\quad \\sqrt{l_{1}^{2} + \\left(l_{2} + 1\\right)^{2}}, \\quad 2.39008368054342\\right ]$$"
      ],
      "text/plain": [
       "⎡         _________________                  ⎤\n",
       "⎢        ╱   2           2                   ⎥\n",
       "⎣[32], ╲╱  l₁  + (l₂ + 1)  , 2.39008368054342⎦"
      ]
     },
     "metadata": {},
     "output_type": "display_data"
    }
   ],
   "source": [
    "sorted_num_norms = sorted(list(set(num_norms)))\n",
    "for jj, sorted_norm in enumerate(sorted_num_norms):\n",
    "    indexes = []\n",
    "    for ii in range(len(norms)):\n",
    "        if num_norms[ii] == sorted_norm:\n",
    "            indexes.append(ii + 1)\n",
    "    display([indexes, norms[jj], sorted_norm])"
   ]
  },
  {
   "cell_type": "code",
   "execution_count": null,
   "metadata": {},
   "outputs": [],
   "source": []
  }
 ],
 "metadata": {
  "kernelspec": {
   "display_name": "Python 3",
   "language": "python",
   "name": "python3"
  },
  "language_info": {
   "codemirror_mode": {
    "name": "ipython",
    "version": 3
   },
   "file_extension": ".py",
   "mimetype": "text/x-python",
   "name": "python",
   "nbconvert_exporter": "python",
   "pygments_lexer": "ipython3",
   "version": "3.6.5"
  }
 },
 "nbformat": 4,
 "nbformat_minor": 2
}
